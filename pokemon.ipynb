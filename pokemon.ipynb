{
 "cells": [
  {
   "cell_type": "code",
   "execution_count": 61,
   "id": "1e27537a",
   "metadata": {},
   "outputs": [
    {
     "ename": "IndentationError",
     "evalue": "unindent does not match any outer indentation level (<tokenize>, line 26)",
     "output_type": "error",
     "traceback": [
      "\u001b[0;36m  File \u001b[0;32m\"<tokenize>\"\u001b[0;36m, line \u001b[0;32m26\u001b[0m\n\u001b[0;31m    print(poke_stat)\u001b[0m\n\u001b[0m    ^\u001b[0m\n\u001b[0;31mIndentationError\u001b[0m\u001b[0;31m:\u001b[0m unindent does not match any outer indentation level\n"
     ]
    }
   ],
   "source": [
    "class PokemonAPI:\n",
    "    def __init__(self, api_key):\n",
    "        self.api_key = api_key\n",
    "        self.base_url = 'https://pokeapi.co/api/v2/pokemon/squirtle'\n",
    "        \n",
    "\n",
    "    def _get(self, q='', api_method='/current.json'):\n",
    "        request_url = f\"{self.base_url}{api_method}?key={self.api_key}&q={q}\"\n",
    "        res=requests.get(request_url)\n",
    "        poke_res= requests.get(res)\n",
    "        data = self._get(name)\n",
    "        if poke_res.ok:\n",
    "            return res.json()\n",
    "        else:\n",
    "            print(\"error\")\n",
    "       \n",
    "\n",
    "    def poke_stat(self, name,weight,height):\n",
    "        name=data[name]\n",
    "        weight=data[weight]\n",
    "        height=data[height]\n",
    "        pokemon=input(\"Who is your {name}\") \n",
    "        pokemon_info=[weight],[height]\n",
    "        print(f\"{name}{height}{weight}f\")\n",
    "  \n",
    "     print(poke_stat)\n"
   ]
  },
  {
   "cell_type": "code",
   "execution_count": null,
   "id": "04c762cc",
   "metadata": {},
   "outputs": [],
   "source": []
  },
  {
   "cell_type": "code",
   "execution_count": null,
   "id": "e40683dd",
   "metadata": {},
   "outputs": [],
   "source": []
  }
 ],
 "metadata": {
  "kernelspec": {
   "display_name": "Python 3 (ipykernel)",
   "language": "python",
   "name": "python3"
  },
  "language_info": {
   "codemirror_mode": {
    "name": "ipython",
    "version": 3
   },
   "file_extension": ".py",
   "mimetype": "text/x-python",
   "name": "python",
   "nbconvert_exporter": "python",
   "pygments_lexer": "ipython3",
   "version": "3.9.7"
  }
 },
 "nbformat": 4,
 "nbformat_minor": 5
}
